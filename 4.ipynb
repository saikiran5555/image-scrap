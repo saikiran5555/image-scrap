{
 "cells": [
  {
   "cell_type": "code",
   "execution_count": 1,
   "id": "ec8220b4",
   "metadata": {},
   "outputs": [
    {
     "ename": "ModuleNotFoundError",
     "evalue": "No module named 'googleapiclient'",
     "output_type": "error",
     "traceback": [
      "\u001b[1;31m---------------------------------------------------------------------------\u001b[0m",
      "\u001b[1;31mModuleNotFoundError\u001b[0m                       Traceback (most recent call last)",
      "Cell \u001b[1;32mIn[1], line 1\u001b[0m\n\u001b[1;32m----> 1\u001b[0m \u001b[38;5;28;01mfrom\u001b[39;00m \u001b[38;5;21;01mgoogleapiclient\u001b[39;00m\u001b[38;5;21;01m.\u001b[39;00m\u001b[38;5;21;01mdiscovery\u001b[39;00m \u001b[38;5;28;01mimport\u001b[39;00m build\n\u001b[0;32m      3\u001b[0m \u001b[38;5;28;01mdef\u001b[39;00m \u001b[38;5;21mget_video_views\u001b[39m(api_key, channel_id, num_videos\u001b[38;5;241m=\u001b[39m\u001b[38;5;241m5\u001b[39m):\n\u001b[0;32m      4\u001b[0m     youtube \u001b[38;5;241m=\u001b[39m build(\u001b[38;5;124m\"\u001b[39m\u001b[38;5;124myoutube\u001b[39m\u001b[38;5;124m\"\u001b[39m, \u001b[38;5;124m\"\u001b[39m\u001b[38;5;124mv3\u001b[39m\u001b[38;5;124m\"\u001b[39m, developerKey\u001b[38;5;241m=\u001b[39mapi_key)\n",
      "\u001b[1;31mModuleNotFoundError\u001b[0m: No module named 'googleapiclient'"
     ]
    }
   ],
   "source": [
    "from googleapiclient.discovery import build\n",
    "\n",
    "def get_video_views(api_key, channel_id, num_videos=5):\n",
    "    youtube = build(\"youtube\", \"v3\", developerKey=api_key)\n",
    "    \n",
    "    response = youtube.search().list(\n",
    "        part=\"id\",\n",
    "        channelId=channel_id,\n",
    "        maxResults=num_videos,\n",
    "        order=\"date\"\n",
    "    ).execute()\n",
    "    \n",
    "    video_ids = [item[\"id\"][\"videoId\"] for item in response[\"items\"]]\n",
    "    \n",
    "    video_details = youtube.videos().list(\n",
    "        part=\"statistics\",\n",
    "        id=\",\".join(video_ids)\n",
    "    ).execute()\n",
    "    \n",
    "    views = [item[\"statistics\"][\"viewCount\"] for item in video_details[\"items\"]]\n",
    "    \n",
    "    return views\n",
    "\n",
    "if __name__ == \"__main__\":\n",
    "    api_key = \"YOUR_API_KEY\"\n",
    "    channel_id = \"@PW-Foundation\"  \n",
    "    \n",
    "    num_videos_to_extract = 5\n",
    "\n",
    "    video_views = get_video_views(api_key, channel_id, num_videos=num_videos_to_extract)\n",
    "    \n",
    "    if video_views:\n",
    "        print(\"Number of Views:\")\n",
    "        for index, views in enumerate(video_views, start=1):\n",
    "            print(f\"{index}. {views}\")\n",
    "    else:\n",
    "        print(\"No video views found.\")\n"
   ]
  },
  {
   "cell_type": "code",
   "execution_count": null,
   "id": "fc17a524",
   "metadata": {},
   "outputs": [],
   "source": []
  }
 ],
 "metadata": {
  "kernelspec": {
   "display_name": "Python 3 (ipykernel)",
   "language": "python",
   "name": "python3"
  },
  "language_info": {
   "codemirror_mode": {
    "name": "ipython",
    "version": 3
   },
   "file_extension": ".py",
   "mimetype": "text/x-python",
   "name": "python",
   "nbconvert_exporter": "python",
   "pygments_lexer": "ipython3",
   "version": "3.10.9"
  }
 },
 "nbformat": 4,
 "nbformat_minor": 5
}
