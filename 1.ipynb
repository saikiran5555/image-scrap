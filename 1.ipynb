{
 "cells": [
  {
   "cell_type": "code",
   "execution_count": 2,
   "id": "154e08d2",
   "metadata": {},
   "outputs": [
    {
     "name": "stdout",
     "output_type": "stream",
     "text": [
      "Video URLs:\n",
      "1. https://accounts.google.com/ServiceLogin?service=youtube&uilel=3&passive=true&continue=https%3A%2F%2Fwww.youtube.com%2Fsignin%3Faction_handle_signin%3Dtrue%26app%3Ddesktop%26hl%3Den-GB%26next%3D%252Fsignin_passive%26feature%3Dpassive&hl=en-GB\n"
     ]
    }
   ],
   "source": [
    "import requests\n",
    "from bs4 import BeautifulSoup\n",
    "\n",
    "def extract_video_urls(url, num_videos=5):\n",
    "    response = requests.get(url)\n",
    "    soup = BeautifulSoup(response.content, \"html.parser\")\n",
    "    \n",
    "    video_urls = []\n",
    "    \n",
    "    iframe_tags = soup.find_all(\"iframe\")\n",
    "    for iframe_tag in iframe_tags[:num_videos]:\n",
    "        src = iframe_tag.get(\"src\")\n",
    "        if src and \"youtube.com\" in src:\n",
    "            video_urls.append(src)\n",
    "    \n",
    "    return video_urls\n",
    "\n",
    "if __name__ == \"__main__\":\n",
    "    webpage_url = \"https://www.youtube.com/@PW-Foundation/videos\" \n",
    "    num_videos_to_extract = 5\n",
    "\n",
    "    video_urls = extract_video_urls(webpage_url, num_videos=num_videos_to_extract)\n",
    "    \n",
    "    if video_urls:\n",
    "        print(\"Video URLs:\")\n",
    "        for index, video_url in enumerate(video_urls, start=1):\n",
    "            print(f\"{index}. {video_url}\")\n",
    "    else:\n",
    "        print(\"No video URLs found.\")\n"
   ]
  },
  {
   "cell_type": "code",
   "execution_count": null,
   "id": "199e06ae",
   "metadata": {},
   "outputs": [],
   "source": []
  }
 ],
 "metadata": {
  "kernelspec": {
   "display_name": "Python 3 (ipykernel)",
   "language": "python",
   "name": "python3"
  },
  "language_info": {
   "codemirror_mode": {
    "name": "ipython",
    "version": 3
   },
   "file_extension": ".py",
   "mimetype": "text/x-python",
   "name": "python",
   "nbconvert_exporter": "python",
   "pygments_lexer": "ipython3",
   "version": "3.10.9"
  }
 },
 "nbformat": 4,
 "nbformat_minor": 5
}
