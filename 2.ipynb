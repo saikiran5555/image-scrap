{
 "cells": [
  {
   "cell_type": "code",
   "execution_count": 1,
   "id": "9683f4dd",
   "metadata": {},
   "outputs": [
    {
     "name": "stdout",
     "output_type": "stream",
     "text": [
      "No thumbnail URLs found.\n"
     ]
    }
   ],
   "source": [
    "import requests\n",
    "from bs4 import BeautifulSoup\n",
    "\n",
    "def extract_thumbnail_urls(url, num_videos=5):\n",
    "    response = requests.get(url)\n",
    "    soup = BeautifulSoup(response.content, \"html.parser\")\n",
    "    \n",
    "    thumbnail_urls = []\n",
    "    \n",
    "    a_tags = soup.find_all(\"a\")\n",
    "    for a_tag in a_tags:\n",
    "        data_thumb = a_tag.get(\"data-thumb\")\n",
    "        if data_thumb and \"youtube.com\" in data_thumb:\n",
    "            thumbnail_urls.append(data_thumb)\n",
    "            if len(thumbnail_urls) >= num_videos:\n",
    "                break\n",
    "    \n",
    "    return thumbnail_urls\n",
    "\n",
    "if __name__ == \"__main__\":\n",
    "    webpage_url = \"https://www.youtube.com/@PW-Foundation/videos\"  \n",
    "    num_videos_to_extract = 5\n",
    "\n",
    "    thumbnail_urls = extract_thumbnail_urls(webpage_url, num_videos=num_videos_to_extract)\n",
    "    \n",
    "    if thumbnail_urls:\n",
    "        print(\"Thumbnail URLs:\")\n",
    "        for index, thumbnail_url in enumerate(thumbnail_urls, start=1):\n",
    "            print(f\"{index}. {thumbnail_url}\")\n",
    "    else:\n",
    "        print(\"No thumbnail URLs found.\")\n"
   ]
  },
  {
   "cell_type": "code",
   "execution_count": null,
   "id": "fd198229",
   "metadata": {},
   "outputs": [],
   "source": []
  }
 ],
 "metadata": {
  "kernelspec": {
   "display_name": "Python 3 (ipykernel)",
   "language": "python",
   "name": "python3"
  },
  "language_info": {
   "codemirror_mode": {
    "name": "ipython",
    "version": 3
   },
   "file_extension": ".py",
   "mimetype": "text/x-python",
   "name": "python",
   "nbconvert_exporter": "python",
   "pygments_lexer": "ipython3",
   "version": "3.10.9"
  }
 },
 "nbformat": 4,
 "nbformat_minor": 5
}
