{
 "cells": [
  {
   "cell_type": "code",
   "execution_count": 1,
   "id": "d62d68ca",
   "metadata": {},
   "outputs": [
    {
     "name": "stdout",
     "output_type": "stream",
     "text": [
      "No video titles found.\n"
     ]
    }
   ],
   "source": [
    "import requests\n",
    "from bs4 import BeautifulSoup\n",
    "\n",
    "def extract_video_titles(channel_url, num_videos=5):\n",
    "    response = requests.get(channel_url)\n",
    "    soup = BeautifulSoup(response.content, \"html.parser\")\n",
    "    \n",
    "    video_titles = []\n",
    "    \n",
    "    title_tags = soup.find_all(\"a\", class_=\"yt-simple-endpoint style-scope ytd-grid-video-renderer\")\n",
    "    for title_tag in title_tags[:num_videos]:\n",
    "        title = title_tag.get_text(strip=True)\n",
    "        video_titles.append(title)\n",
    "    \n",
    "    return video_titles\n",
    "\n",
    "if __name__ == \"__main__\":\n",
    "    channel_url = \"https://www.youtube.com/@PW-Foundation/videos\"\n",
    "    num_videos_to_extract = 5\n",
    "\n",
    "    video_titles = extract_video_titles(channel_url, num_videos=num_videos_to_extract)\n",
    "    \n",
    "    if video_titles:\n",
    "        print(\"Video Titles:\")\n",
    "        for index, title in enumerate(video_titles, start=1):\n",
    "            print(f\"{index}. {title}\")\n",
    "    else:\n",
    "        print(\"No video titles found.\")\n"
   ]
  },
  {
   "cell_type": "code",
   "execution_count": null,
   "id": "dab18b30",
   "metadata": {},
   "outputs": [],
   "source": []
  }
 ],
 "metadata": {
  "kernelspec": {
   "display_name": "Python 3 (ipykernel)",
   "language": "python",
   "name": "python3"
  },
  "language_info": {
   "codemirror_mode": {
    "name": "ipython",
    "version": 3
   },
   "file_extension": ".py",
   "mimetype": "text/x-python",
   "name": "python",
   "nbconvert_exporter": "python",
   "pygments_lexer": "ipython3",
   "version": "3.10.9"
  }
 },
 "nbformat": 4,
 "nbformat_minor": 5
}
